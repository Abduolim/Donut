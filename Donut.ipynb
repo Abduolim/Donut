{
 "cells": [
  {
   "cell_type": "code",
   "execution_count": null,
   "id": "4792d6cc",
   "metadata": {},
   "outputs": [],
   "source": [
    "import time, math\n",
    "A, B = 0, 0\n",
    "print(\"\\x1b[2J\", end='')\n",
    "while True:\n",
    "    z = [0] * 1760\n",
    "    b = [' '] * 1760\n",
    "    for j in range(0, 628, 7):\n",
    "        for i in range(0, 628, 2):\n",
    "            c = math.sin(i)\n",
    "            d = math.cos(j)\n",
    "            e = math.sin(A)\n",
    "            f = math.sin(j)\n",
    "            g = math.cos(A)\n",
    "            h = d + 2\n",
    "            D = 1 / (c * h * e + f * g + 5)\n",
    "            l = math.cos(i)\n",
    "            m = math.cos(B)\n",
    "            n = math.sin(B)\n",
    "            t = c * h * g - f * e\n",
    "            x = int(40 + 30 * D * (l * h * m - t * n))\n",
    "            y = int(12 + 15 * D * (l * h * n + t * m))\n",
    "            o = int(x + 80 * y)\n",
    "            N = int(8 * ((f * e - c * d * g) * m - c * d * e - f * g - l * d * n))\n",
    "            if 22 > y and y > 0 and x > 0 and 80 > x and D > z[o]:\n",
    "                z[o] = D\n",
    "                b[o] = \".,-~:;=!*#$@\"[N if N > 0 else 0]\n",
    "    print('\\x1b[H', end='')\n",
    "    for k in range(1761):\n",
    "        print((b[k] if k % 80 else '\\n'), end='')\n",
    "        A += 0.00004\n",
    "        B += 0.00002\n",
    "    time.sleep(0.01)"
   ]
  }
 ],
 "metadata": {
  "kernelspec": {
   "display_name": "Python 3 (ipykernel)",
   "language": "python",
   "name": "python3"
  },
  "language_info": {
   "codemirror_mode": {
    "name": "ipython",
    "version": 3
   },
   "file_extension": ".py",
   "mimetype": "text/x-python",
   "name": "python",
   "nbconvert_exporter": "python",
   "pygments_lexer": "ipython3",
   "version": "3.9.0"
  }
 },
 "nbformat": 4,
 "nbformat_minor": 5
}
